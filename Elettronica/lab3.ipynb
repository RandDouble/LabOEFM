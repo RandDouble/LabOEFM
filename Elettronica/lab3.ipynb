{
 "cells": [
  {
   "cell_type": "markdown",
   "metadata": {},
   "source": [
    "# Laboratorio 3\n",
    "\n",
    "## Circuito RC\n",
    "\n",
    "- C = "
   ]
  },
  {
   "cell_type": "code",
   "execution_count": 3,
   "metadata": {},
   "outputs": [
    {
     "data": {
      "text/plain": [
       "15947.62878118362"
      ]
     },
     "execution_count": 3,
     "metadata": {},
     "output_type": "execute_result"
    }
   ],
   "source": [
    "import numpy as np\n",
    "\n",
    "R = 9.95e3 #Ohm\n",
    "C = 1.003e-9 #F\n",
    "\n",
    "Tau = R*C\n",
    "Tau\n",
    "\n",
    "fc = 1/(2*np.pi*Tau)\n",
    "fc"
   ]
  },
  {
   "cell_type": "markdown",
   "metadata": {},
   "source": [
    "## Sezione Grafica\n",
    "\n",
    "### Grafico Nyquist\n",
    "\n",
    "Di seguito riportiamo i grafici di nydquist"
   ]
  },
  {
   "cell_type": "code",
   "execution_count": 4,
   "metadata": {},
   "outputs": [
    {
     "data": {
      "text/plain": [
       "[<matplotlib.lines.Line2D at 0x7fee7fafa790>]"
      ]
     },
     "execution_count": 4,
     "metadata": {},
     "output_type": "execute_result"
    },
    {
     "data": {
      "image/png": "[encoded data removed]",
      "text/plain": [
       "<Figure size 432x288 with 1 Axes>"
      ]
     },
     "metadata": {
      "needs_background": "light"
     },
     "output_type": "display_data"
    }
   ],
   "source": [
    "import matplotlib.pyplot as plt\n",
    "import pandas as pd\n",
    "\n",
    "%matplotlib inline\n",
    "\n",
    "data = pd.read_csv(\"day3.csv\")\n",
    "Vin = data[\"Vin\"].values\n",
    "Vout = data[\"Vout\"].values\n",
    "dt = data[\"dt\"].values\n",
    "freq = data[\"freq\"].values\n",
    "\n",
    "phi = dt*freq*2.*np.pi\n",
    "mod = Vout/Vin\n",
    "\n",
    "plt.plot(mod*np.cos(phi), mod*np.sin(phi))"
   ]
  }
 ],
 "metadata": {
  "interpreter": {
   "hash": "eba8d0f3eb4cc3493f8765f82eb774606a87d204bf8339112b05791be32cd982"
  },
  "kernelspec": {
   "display_name": "Python 3.9.7 ('codeLab')",
   "language": "python",
   "name": "python3"
  },
  "language_info": {
   "codemirror_mode": {
    "name": "ipython",
    "version": 3
   },
   "file_extension": ".py",
   "mimetype": "text/x-python",
   "name": "python",
   "nbconvert_exporter": "python",
   "pygments_lexer": "ipython3",
   "version": "3.9.7"
  },
  "orig_nbformat": 4
 },
 "nbformat": 4,
 "nbformat_minor": 2
}
