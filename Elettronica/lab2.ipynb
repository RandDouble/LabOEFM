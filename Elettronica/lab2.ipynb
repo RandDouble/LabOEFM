{
 "cells": [
  {
   "cell_type": "markdown",
   "metadata": {},
   "source": [
    "# Esperienza 2 di laboratorio\n",
    "\n",
    "## Valori resistenza misurati prima del esperimento\n",
    "\n",
    "Valori Circuito:\n",
    "- Resistenza = 10 kOhm\n",
    "- Capacità = 1000 pF\n",
    "$$\n",
    "\\tau = RC \\\\\n",
    "f = \\frac{1}{2\\pi\\tau}\n",
    "$$"
   ]
  },
  {
   "cell_type": "code",
   "execution_count": 4,
   "metadata": {},
   "outputs": [
    {
     "name": "stdout",
     "output_type": "stream",
     "text": [
      "Value Tau : 9.99146015e-06\n",
      "Value f_c : 15929.097519534753\n"
     ]
    }
   ],
   "source": [
    "import numpy as np\n",
    "R = 9.9467e3 #Ohm\n",
    "C = 1.0045e-9 #F\n",
    "Tau = R*C\n",
    "print(\"Value Tau : {}\".format(Tau))\n",
    "f_c= 1/(2*np.pi*Tau)\n",
    "print(\"Value f_c : {}\".format(f_c))"
   ]
  },
  {
   "cell_type": "markdown",
   "metadata": {},
   "source": [
    "## Valori RC da Oscilloscopio"
   ]
  },
  {
   "cell_type": "code",
   "execution_count": 5,
   "metadata": {},
   "outputs": [
    {
     "name": "stdout",
     "output_type": "stream",
     "text": [
      "Error on DeltaV = 9.261629e-03\n",
      "Percentual = 25.258989%\n",
      "Error on V_max = 3.590110e-03\n",
      "Percentual = 3.224650%\n",
      "Tau +/- errTau = 6.376364e-06 +/- 1.819257e-06 \n",
      "Percentual = 28.531258%\n"
     ]
    }
   ],
   "source": [
    "# Dati\n",
    "delta_v = np.array([44, 40, 30, 46, 32, 16, 34, 48, 30, 34, 32, 40, 36, 30, 44, 26, 40, 58], dtype='float64') # in mV\n",
    "delta_v*=1e-3 #V\n",
    "print(\"Error on DeltaV = {:e}\\n\\\n",
    "Percentual = {:%}\".format(delta_v.std(), delta_v.std()/delta_v.mean()))\n",
    "delta_t = 2.1e-6 # s\n",
    "err_t = 1e-9\n",
    "v_max = np.array([112, 108, 112, 118, 108, 110, 114, 116, 112, 104, 110, 112 ], dtype='float64') #mV\n",
    "v_max*=1e-3 #V\n",
    "print(\"Error on V_max = {:e}\\n\\\n",
    "Percentual = {:%}\".format(v_max.std(), v_max.std()/v_max.mean()))\n",
    "# Calcolo\n",
    "\n",
    "m = delta_v.mean()/delta_t\n",
    "tau_calc = v_max.mean()/m \n",
    "err_tau = (delta_v.std()/delta_v.mean()+err_t/delta_t+v_max.std()/v_max.mean())*tau_calc\n",
    "\n",
    "print(\"Tau +/- errTau = {:03e} +/- {:03e} \\nPercentual = {:%}\".format(tau_calc, err_tau, err_tau/tau_calc))\n",
    "\n"
   ]
  },
  {
   "cell_type": "markdown",
   "metadata": {},
   "source": [
    "# Seconda Giornata circuito RL\n",
    "\n",
    "## calcolo tempo caratteristico\n",
    "\n",
    "> Ricordarsi che l'impedenza di uscita del generatore è 50 Ohm, it messes up with low resistance circuit\n",
    "$$\n",
    "\\tau = \\frac{L}{R}\\\\\n",
    "f = \\frac{1}{2\\pi\\tau}\n",
    "$$"
   ]
  },
  {
   "cell_type": "code",
   "execution_count": 10,
   "metadata": {},
   "outputs": [
    {
     "name": "stdout",
     "output_type": "stream",
     "text": [
      "Value of Tau = 1e-05\n",
      "Value of f = 15915.494309189533\n"
     ]
    }
   ],
   "source": [
    "L = 10e-3 #H\n",
    "R_ = 1000 #Ohm\n",
    "tau = L/R_\n",
    "print('Value of Tau = {}'.format(tau))\n",
    "f_ = 1/(2*np.pi*tau)\n",
    "print('Value of f = {}'.format(f_))"
   ]
  }
 ],
 "metadata": {
  "interpreter": {
   "hash": "eba8d0f3eb4cc3493f8765f82eb774606a87d204bf8339112b05791be32cd982"
  },
  "kernelspec": {
   "display_name": "Python 3.9.7 ('codeLab')",
   "language": "python",
   "name": "python3"
  },
  "language_info": {
   "codemirror_mode": {
    "name": "ipython",
    "version": 3
   },
   "file_extension": ".py",
   "mimetype": "text/x-python",
   "name": "python",
   "nbconvert_exporter": "python",
   "pygments_lexer": "ipython3",
   "version": "3.9.7"
  },
  "orig_nbformat": 4
 },
 "nbformat": 4,
 "nbformat_minor": 2
}
